{
 "cells": [
  {
   "cell_type": "code",
   "execution_count": 1,
   "metadata": {
    "collapsed": true
   },
   "outputs": [],
   "source": [
    "import numpy as np"
   ]
  },
  {
   "cell_type": "code",
   "execution_count": 3,
   "metadata": {
    "collapsed": false
   },
   "outputs": [],
   "source": [
    "from sparr import MapArray as M"
   ]
  },
  {
   "cell_type": "code",
   "execution_count": 4,
   "metadata": {
    "collapsed": true
   },
   "outputs": [],
   "source": [
    "import pysparse"
   ]
  },
  {
   "cell_type": "code",
   "execution_count": 14,
   "metadata": {
    "collapsed": false
   },
   "outputs": [],
   "source": [
    "%load_ext memory_profiler"
   ]
  },
  {
   "cell_type": "markdown",
   "metadata": {},
   "source": [
    "# `PySparse`"
   ]
  },
  {
   "cell_type": "code",
   "execution_count": 34,
   "metadata": {
    "collapsed": true
   },
   "outputs": [],
   "source": [
    "## from http://pysparse.sourceforge.net/spmatrix.html#spmatrix.ll_mat\n",
    "\n",
    "from pysparse.sparse import spmatrix\n",
    "\n",
    "def poisson2d(n):\n",
    "    n2 = n*n\n",
    "    L = spmatrix.ll_mat(n2, n2, 5*n2-4*n)\n",
    "    for i in xrange(n):\n",
    "        for j in xrange(n):\n",
    "            k = i + n*j\n",
    "            L[k,k] = 4\n",
    "            if i > 0:\n",
    "               L[k,k-1] = -1\n",
    "            if i < n-1:\n",
    "               L[k,k+1] = -1\n",
    "            if j > 0:\n",
    "               L[k,k-n] = -1\n",
    "            if j < n-1:\n",
    "               L[k,k+n] = -1\n",
    "    return L"
   ]
  },
  {
   "cell_type": "code",
   "execution_count": 39,
   "metadata": {
    "collapsed": false
   },
   "outputs": [
    {
     "name": "stdout",
     "output_type": "stream",
     "text": [
      "100 loops, best of 3: 7.92 ms per loop\n"
     ]
    }
   ],
   "source": [
    "%timeit L = poisson2d(100)"
   ]
  },
  {
   "cell_type": "code",
   "execution_count": 40,
   "metadata": {
    "collapsed": false
   },
   "outputs": [
    {
     "name": "stdout",
     "output_type": "stream",
     "text": [
      "peak memory: 39.73 MiB, increment: 0.00 MiB\n"
     ]
    }
   ],
   "source": [
    "%memit poisson2d(100)"
   ]
  },
  {
   "cell_type": "markdown",
   "metadata": {},
   "source": [
    "# `PySparse` ll_mat, no preallocation"
   ]
  },
  {
   "cell_type": "code",
   "execution_count": 41,
   "metadata": {
    "collapsed": true
   },
   "outputs": [],
   "source": [
    "def no_prealloc_poisson2d(n):\n",
    "    n2 = n*n\n",
    "    L = spmatrix.ll_mat(n2, n2)\n",
    "    for i in xrange(n):\n",
    "        for j in xrange(n):\n",
    "            k = i + n*j\n",
    "            L[k,k] = 4\n",
    "            if i > 0:\n",
    "               L[k,k-1] = -1\n",
    "            if i < n-1:\n",
    "               L[k,k+1] = -1\n",
    "            if j > 0:\n",
    "               L[k,k-n] = -1\n",
    "            if j < n-1:\n",
    "               L[k,k+n] = -1\n",
    "    return L"
   ]
  },
  {
   "cell_type": "code",
   "execution_count": 42,
   "metadata": {
    "collapsed": false
   },
   "outputs": [
    {
     "name": "stdout",
     "output_type": "stream",
     "text": [
      "100 loops, best of 3: 8.51 ms per loop\n"
     ]
    }
   ],
   "source": [
    "%timeit no_prealloc_poisson2d(100)"
   ]
  },
  {
   "cell_type": "code",
   "execution_count": 43,
   "metadata": {
    "collapsed": false
   },
   "outputs": [
    {
     "name": "stdout",
     "output_type": "stream",
     "text": [
      "peak memory: 39.73 MiB, increment: 0.00 MiB\n"
     ]
    }
   ],
   "source": [
    "%memit no_prealloc_poisson2d(100)"
   ]
  },
  {
   "cell_type": "markdown",
   "metadata": {},
   "source": [
    "# `MapArray`"
   ]
  },
  {
   "cell_type": "code",
   "execution_count": 31,
   "metadata": {
    "collapsed": true
   },
   "outputs": [],
   "source": [
    "def map_poisson2d(n):\n",
    "    n2 = n*n\n",
    "    L = M(shape=(n2, n2))\n",
    "    for i in xrange(n):\n",
    "        for j in xrange(n):\n",
    "            k = i + n*j\n",
    "            L[k,k] = 4\n",
    "            if i > 0:\n",
    "               L[k,k-1] = -1\n",
    "            if i < n-1:\n",
    "               L[k,k+1] = -1\n",
    "            if j > 0:\n",
    "               L[k,k-n] = -1\n",
    "            if j < n-1:\n",
    "               L[k,k+n] = -1\n",
    "    return L"
   ]
  },
  {
   "cell_type": "code",
   "execution_count": 32,
   "metadata": {
    "collapsed": false
   },
   "outputs": [
    {
     "name": "stdout",
     "output_type": "stream",
     "text": [
      "10 loops, best of 3: 17.9 ms per loop\n"
     ]
    }
   ],
   "source": [
    "%timeit L = map_poisson2d(100)"
   ]
  },
  {
   "cell_type": "code",
   "execution_count": 33,
   "metadata": {
    "collapsed": false
   },
   "outputs": [
    {
     "name": "stdout",
     "output_type": "stream",
     "text": [
      "peak memory: 40.47 MiB, increment: 1.73 MiB\n"
     ]
    }
   ],
   "source": [
    "%memit map_poisson2d(100)"
   ]
  },
  {
   "cell_type": "markdown",
   "metadata": {},
   "source": [
    "# `dok_matrix`"
   ]
  },
  {
   "cell_type": "code",
   "execution_count": 28,
   "metadata": {
    "collapsed": true
   },
   "outputs": [],
   "source": [
    "from scipy.sparse import dok_matrix\n",
    "\n",
    "def dok_poisson2d(n):\n",
    "    n2 = n*n\n",
    "    L = dok_matrix((n2, n2))\n",
    "    for i in xrange(n):\n",
    "        for j in xrange(n):\n",
    "            k = i + n*j\n",
    "            L[k,k] = 4\n",
    "            if i > 0:\n",
    "               L[k,k-1] = -1\n",
    "            if i < n-1:\n",
    "               L[k,k+1] = -1\n",
    "            if j > 0:\n",
    "               L[k,k-n] = -1\n",
    "            if j < n-1:\n",
    "               L[k,k+n] = -1\n",
    "    return L"
   ]
  },
  {
   "cell_type": "code",
   "execution_count": 29,
   "metadata": {
    "collapsed": false
   },
   "outputs": [
    {
     "name": "stdout",
     "output_type": "stream",
     "text": [
      "1 loops, best of 3: 587 ms per loop\n"
     ]
    }
   ],
   "source": [
    "%timeit dok_poisson2d(100)"
   ]
  },
  {
   "cell_type": "code",
   "execution_count": 30,
   "metadata": {
    "collapsed": false
   },
   "outputs": [
    {
     "name": "stdout",
     "output_type": "stream",
     "text": [
      "peak memory: 44.21 MiB, increment: 2.11 MiB\n"
     ]
    }
   ],
   "source": [
    "%memit dok_poisson2d(100)"
   ]
  },
  {
   "cell_type": "code",
   "execution_count": null,
   "metadata": {
    "collapsed": true
   },
   "outputs": [],
   "source": []
  }
 ],
 "metadata": {
  "kernelspec": {
   "display_name": "Python 2",
   "language": "python",
   "name": "python2"
  },
  "language_info": {
   "codemirror_mode": {
    "name": "ipython",
    "version": 2
   },
   "file_extension": ".py",
   "mimetype": "text/x-python",
   "name": "python",
   "nbconvert_exporter": "python",
   "pygments_lexer": "ipython2",
   "version": "2.7.11"
  }
 },
 "nbformat": 4,
 "nbformat_minor": 0
}
